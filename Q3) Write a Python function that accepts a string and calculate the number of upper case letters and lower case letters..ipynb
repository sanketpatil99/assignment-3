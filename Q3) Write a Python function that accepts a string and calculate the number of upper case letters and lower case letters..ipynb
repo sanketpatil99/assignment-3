{
 "cells": [
  {
   "cell_type": "code",
   "execution_count": null,
   "id": "53d6eaf4",
   "metadata": {},
   "outputs": [],
   "source": [
    "Write a Python function that accepts a string and calculate the number of upper case letters and lower case letters.\n",
    "\n",
    "\n",
    "\n",
    "﻿Sample String : 'The quick Brow Fox'\n",
    "\n",
    "Expected Output :\n",
    "\n",
    "No. of Upper case characters : 3\n",
    "\n",
    "No. of Lower case Characters : 12"
   ]
  },
  {
   "cell_type": "code",
   "execution_count": 7,
   "id": "62952880",
   "metadata": {},
   "outputs": [
    {
     "name": "stdout",
     "output_type": "stream",
     "text": [
      "No. of upper case charecters: 3, No. of lower charecters: 12\n"
     ]
    }
   ],
   "source": [
    "def up_low(s):\n",
    "    for a in s:\n",
    "        u = sum(1 for i in s if i.isupper())\n",
    "        l = sum(1 for i in s if i.islower())\n",
    "    print(\"No. of upper case charecters: %s, No. of lower charecters: %s\" %(u,l))\n",
    "up_low(\"The quick Brow Fox\")"
   ]
  },
  {
   "cell_type": "code",
   "execution_count": null,
   "id": "8fd11541",
   "metadata": {},
   "outputs": [],
   "source": []
  }
 ],
 "metadata": {
  "kernelspec": {
   "display_name": "Python 3 (ipykernel)",
   "language": "python",
   "name": "python3"
  },
  "language_info": {
   "codemirror_mode": {
    "name": "ipython",
    "version": 3
   },
   "file_extension": ".py",
   "mimetype": "text/x-python",
   "name": "python",
   "nbconvert_exporter": "python",
   "pygments_lexer": "ipython3",
   "version": "3.9.7"
  }
 },
 "nbformat": 4,
 "nbformat_minor": 5
}
